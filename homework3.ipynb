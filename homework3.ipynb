{
 "cells": [
  {
   "metadata": {},
   "cell_type": "markdown",
   "source": "#### 1.SVM Classifier for Wisconsin Breast Cancer Diagnosis",
   "id": "df253cad0a33c31"
  },
  {
   "cell_type": "code",
   "id": "initial_id",
   "metadata": {
    "collapsed": true,
    "ExecuteTime": {
     "end_time": "2024-10-25T12:44:25.057744Z",
     "start_time": "2024-10-25T12:44:24.589918Z"
    }
   },
   "source": [
    "import pandas as pd\n",
    "\n",
    "from sklearn.model_selection import train_test_split\n",
    "from sklearn.preprocessing import StandardScaler\n",
    "from sklearn.svm import SVC\n",
    "from sklearn.metrics import accuracy_score, classification_report"
   ],
   "outputs": [],
   "execution_count": 2
  },
  {
   "metadata": {
    "ExecuteTime": {
     "end_time": "2024-10-25T12:44:25.068230Z",
     "start_time": "2024-10-25T12:44:25.057836Z"
    }
   },
   "cell_type": "code",
   "source": [
    "\n",
    "file_path=r\"breast-cancer-wisconsin.csv\"\n",
    "\n",
    "df=pd.read_csv(file_path)"
   ],
   "id": "16091f95ba9c94ed",
   "outputs": [],
   "execution_count": 3
  },
  {
   "metadata": {
    "ExecuteTime": {
     "end_time": "2024-10-25T12:44:25.072228Z",
     "start_time": "2024-10-25T12:44:25.068230Z"
    }
   },
   "cell_type": "code",
   "source": [
    "#Display the first column\n",
    "print(df.iloc[:,0].head())"
   ],
   "id": "2990507ba5db674c",
   "outputs": [
    {
     "name": "stdout",
     "output_type": "stream",
     "text": [
      "0    1000025\n",
      "1    1002945\n",
      "2    1015425\n",
      "3    1016277\n",
      "4    1017023\n",
      "Name: Id, dtype: int64\n"
     ]
    }
   ],
   "execution_count": 4
  },
  {
   "metadata": {
    "ExecuteTime": {
     "end_time": "2024-10-25T12:44:25.080303Z",
     "start_time": "2024-10-25T12:44:25.072228Z"
    }
   },
   "cell_type": "code",
   "source": [
    "#Dropping the 'id' column as non-informative\n",
    "df=df.drop(columns=['Id'])"
   ],
   "id": "323192c8ac9ecd75",
   "outputs": [],
   "execution_count": 5
  },
  {
   "metadata": {
    "ExecuteTime": {
     "end_time": "2024-10-25T12:44:25.087651Z",
     "start_time": "2024-10-25T12:44:25.080303Z"
    }
   },
   "cell_type": "code",
   "source": [
    "#Strip leading  and trailing  spaces from column names\n",
    "df.columns= df.columns.str.strip()"
   ],
   "id": "fab2b54912733b2a",
   "outputs": [],
   "execution_count": 6
  },
  {
   "metadata": {
    "ExecuteTime": {
     "end_time": "2024-10-25T12:44:25.099178Z",
     "start_time": "2024-10-25T12:44:25.087651Z"
    }
   },
   "cell_type": "code",
   "source": [
    "#Verify the datatype\n",
    "df.info()\n"
   ],
   "id": "cfaad19dcddb818a",
   "outputs": [
    {
     "name": "stdout",
     "output_type": "stream",
     "text": [
      "<class 'pandas.core.frame.DataFrame'>\n",
      "RangeIndex: 699 entries, 0 to 698\n",
      "Data columns (total 10 columns):\n",
      " #   Column                       Non-Null Count  Dtype \n",
      "---  ------                       --------------  ----- \n",
      " 0   Clump Thickness              699 non-null    int64 \n",
      " 1   Uniformity of Cell Size      699 non-null    int64 \n",
      " 2   Uniformity of Cell Shape     699 non-null    int64 \n",
      " 3   Marginal Adhesion            699 non-null    int64 \n",
      " 4   Single Epithelial Cell Size  699 non-null    int64 \n",
      " 5   Bare Nuclei                  699 non-null    object\n",
      " 6   Bland Chromatin              699 non-null    int64 \n",
      " 7   Normal Nucleoli              699 non-null    int64 \n",
      " 8   Mitoses                      699 non-null    int64 \n",
      " 9   Class                        699 non-null    int64 \n",
      "dtypes: int64(9), object(1)\n",
      "memory usage: 54.7+ KB\n"
     ]
    }
   ],
   "execution_count": 7
  },
  {
   "metadata": {
    "ExecuteTime": {
     "end_time": "2024-10-25T12:44:25.106303Z",
     "start_time": "2024-10-25T12:44:25.100224Z"
    }
   },
   "cell_type": "code",
   "source": [
    "# Convert 'Bare Nuclei' to numeric, setting errors='coerce' to handle '?' as NaN\n",
    "df['Bare Nuclei'] = pd.to_numeric(df['Bare Nuclei'], errors='coerce')"
   ],
   "id": "16ac9f4db8dd6de0",
   "outputs": [],
   "execution_count": 8
  },
  {
   "metadata": {
    "ExecuteTime": {
     "end_time": "2024-10-25T12:44:25.112956Z",
     "start_time": "2024-10-25T12:44:25.106814Z"
    }
   },
   "cell_type": "code",
   "source": [
    "#Drp rows with any missiong values\n",
    "df=df.dropna()"
   ],
   "id": "49ebd6897fa86549",
   "outputs": [],
   "execution_count": 9
  },
  {
   "metadata": {},
   "cell_type": "markdown",
   "source": "",
   "id": "9ae1598d6c26aef0"
  },
  {
   "metadata": {
    "ExecuteTime": {
     "end_time": "2024-10-25T12:44:25.119560Z",
     "start_time": "2024-10-25T12:44:25.112956Z"
    }
   },
   "cell_type": "code",
   "source": [
    "#separate features and target \n",
    "X =df.drop(columns=['Class'])\n",
    "y=df['Class']\n"
   ],
   "id": "e6c8683dbea6eb48",
   "outputs": [],
   "execution_count": 10
  },
  {
   "metadata": {
    "ExecuteTime": {
     "end_time": "2024-10-25T12:44:25.127631Z",
     "start_time": "2024-10-25T12:44:25.119560Z"
    }
   },
   "cell_type": "code",
   "source": [
    "#Split the data into trainig and test sets\n",
    "X_train, X_test, y_train, y_test=train_test_split(X, y, test_size=0.2, random_state=42)"
   ],
   "id": "d189b4093b7fc29",
   "outputs": [],
   "execution_count": 11
  },
  {
   "metadata": {
    "ExecuteTime": {
     "end_time": "2024-10-25T12:44:25.136989Z",
     "start_time": "2024-10-25T12:44:25.127965Z"
    }
   },
   "cell_type": "code",
   "source": [
    "#Standardize the features\n",
    "scaler=StandardScaler()\n",
    "X_train=scaler.fit_transform(X_train)\n",
    "X_test=scaler.transform(X_test)"
   ],
   "id": "47da5510c44358e0",
   "outputs": [],
   "execution_count": 12
  },
  {
   "metadata": {
    "ExecuteTime": {
     "end_time": "2024-10-25T12:44:25.147477Z",
     "start_time": "2024-10-25T12:44:25.136989Z"
    }
   },
   "cell_type": "code",
   "source": [
    "#Train  SVM Classifier\n",
    "svm_classifier=SVC(kernel='linear', random_state=42)\n",
    "svm_classifier.fit(X_train, y_train)\n"
   ],
   "id": "3ee5fadfa42198bc",
   "outputs": [
    {
     "data": {
      "text/plain": [
       "SVC(kernel='linear', random_state=42)"
      ],
      "text/html": [
       "<style>#sk-container-id-1 {color: black;}#sk-container-id-1 pre{padding: 0;}#sk-container-id-1 div.sk-toggleable {background-color: white;}#sk-container-id-1 label.sk-toggleable__label {cursor: pointer;display: block;width: 100%;margin-bottom: 0;padding: 0.3em;box-sizing: border-box;text-align: center;}#sk-container-id-1 label.sk-toggleable__label-arrow:before {content: \"▸\";float: left;margin-right: 0.25em;color: #696969;}#sk-container-id-1 label.sk-toggleable__label-arrow:hover:before {color: black;}#sk-container-id-1 div.sk-estimator:hover label.sk-toggleable__label-arrow:before {color: black;}#sk-container-id-1 div.sk-toggleable__content {max-height: 0;max-width: 0;overflow: hidden;text-align: left;background-color: #f0f8ff;}#sk-container-id-1 div.sk-toggleable__content pre {margin: 0.2em;color: black;border-radius: 0.25em;background-color: #f0f8ff;}#sk-container-id-1 input.sk-toggleable__control:checked~div.sk-toggleable__content {max-height: 200px;max-width: 100%;overflow: auto;}#sk-container-id-1 input.sk-toggleable__control:checked~label.sk-toggleable__label-arrow:before {content: \"▾\";}#sk-container-id-1 div.sk-estimator input.sk-toggleable__control:checked~label.sk-toggleable__label {background-color: #d4ebff;}#sk-container-id-1 div.sk-label input.sk-toggleable__control:checked~label.sk-toggleable__label {background-color: #d4ebff;}#sk-container-id-1 input.sk-hidden--visually {border: 0;clip: rect(1px 1px 1px 1px);clip: rect(1px, 1px, 1px, 1px);height: 1px;margin: -1px;overflow: hidden;padding: 0;position: absolute;width: 1px;}#sk-container-id-1 div.sk-estimator {font-family: monospace;background-color: #f0f8ff;border: 1px dotted black;border-radius: 0.25em;box-sizing: border-box;margin-bottom: 0.5em;}#sk-container-id-1 div.sk-estimator:hover {background-color: #d4ebff;}#sk-container-id-1 div.sk-parallel-item::after {content: \"\";width: 100%;border-bottom: 1px solid gray;flex-grow: 1;}#sk-container-id-1 div.sk-label:hover label.sk-toggleable__label {background-color: #d4ebff;}#sk-container-id-1 div.sk-serial::before {content: \"\";position: absolute;border-left: 1px solid gray;box-sizing: border-box;top: 0;bottom: 0;left: 50%;z-index: 0;}#sk-container-id-1 div.sk-serial {display: flex;flex-direction: column;align-items: center;background-color: white;padding-right: 0.2em;padding-left: 0.2em;position: relative;}#sk-container-id-1 div.sk-item {position: relative;z-index: 1;}#sk-container-id-1 div.sk-parallel {display: flex;align-items: stretch;justify-content: center;background-color: white;position: relative;}#sk-container-id-1 div.sk-item::before, #sk-container-id-1 div.sk-parallel-item::before {content: \"\";position: absolute;border-left: 1px solid gray;box-sizing: border-box;top: 0;bottom: 0;left: 50%;z-index: -1;}#sk-container-id-1 div.sk-parallel-item {display: flex;flex-direction: column;z-index: 1;position: relative;background-color: white;}#sk-container-id-1 div.sk-parallel-item:first-child::after {align-self: flex-end;width: 50%;}#sk-container-id-1 div.sk-parallel-item:last-child::after {align-self: flex-start;width: 50%;}#sk-container-id-1 div.sk-parallel-item:only-child::after {width: 0;}#sk-container-id-1 div.sk-dashed-wrapped {border: 1px dashed gray;margin: 0 0.4em 0.5em 0.4em;box-sizing: border-box;padding-bottom: 0.4em;background-color: white;}#sk-container-id-1 div.sk-label label {font-family: monospace;font-weight: bold;display: inline-block;line-height: 1.2em;}#sk-container-id-1 div.sk-label-container {text-align: center;}#sk-container-id-1 div.sk-container {/* jupyter's `normalize.less` sets `[hidden] { display: none; }` but bootstrap.min.css set `[hidden] { display: none !important; }` so we also need the `!important` here to be able to override the default hidden behavior on the sphinx rendered scikit-learn.org. See: https://github.com/scikit-learn/scikit-learn/issues/21755 */display: inline-block !important;position: relative;}#sk-container-id-1 div.sk-text-repr-fallback {display: none;}</style><div id=\"sk-container-id-1\" class=\"sk-top-container\"><div class=\"sk-text-repr-fallback\"><pre>SVC(kernel=&#x27;linear&#x27;, random_state=42)</pre><b>In a Jupyter environment, please rerun this cell to show the HTML representation or trust the notebook. <br />On GitHub, the HTML representation is unable to render, please try loading this page with nbviewer.org.</b></div><div class=\"sk-container\" hidden><div class=\"sk-item\"><div class=\"sk-estimator sk-toggleable\"><input class=\"sk-toggleable__control sk-hidden--visually\" id=\"sk-estimator-id-1\" type=\"checkbox\" checked><label for=\"sk-estimator-id-1\" class=\"sk-toggleable__label sk-toggleable__label-arrow\">SVC</label><div class=\"sk-toggleable__content\"><pre>SVC(kernel=&#x27;linear&#x27;, random_state=42)</pre></div></div></div></div></div>"
      ]
     },
     "execution_count": 13,
     "metadata": {},
     "output_type": "execute_result"
    }
   ],
   "execution_count": 13
  },
  {
   "metadata": {
    "ExecuteTime": {
     "end_time": "2024-10-25T12:44:25.151332Z",
     "start_time": "2024-10-25T12:44:25.147477Z"
    }
   },
   "cell_type": "code",
   "source": [
    "#predictions\n",
    "y_pred=svm_classifier.predict(X_test)"
   ],
   "id": "56bf2e5ab214d75e",
   "outputs": [],
   "execution_count": 14
  },
  {
   "metadata": {
    "ExecuteTime": {
     "end_time": "2024-10-25T12:44:25.165592Z",
     "start_time": "2024-10-25T12:44:25.151332Z"
    }
   },
   "cell_type": "code",
   "source": [
    "#Evaluate the model\n",
    "accuracy =accuracy_score(y_test, y_pred)\n",
    "report=classification_report(y_test, y_pred)"
   ],
   "id": "61ae341a51bf168c",
   "outputs": [],
   "execution_count": 15
  },
  {
   "metadata": {
    "ExecuteTime": {
     "end_time": "2024-10-25T12:44:25.169430Z",
     "start_time": "2024-10-25T12:44:25.166104Z"
    }
   },
   "cell_type": "code",
   "source": [
    "#Results\n",
    "print(\"Accuracy:\", accuracy)\n",
    "print (\"Clasification Report:\\n\", report)"
   ],
   "id": "cce2a5fc28d7c7bd",
   "outputs": [
    {
     "name": "stdout",
     "output_type": "stream",
     "text": [
      "Accuracy: 0.9708029197080292\n",
      "Clasification Report:\n",
      "               precision    recall  f1-score   support\n",
      "\n",
      "           2       0.96      0.99      0.97        79\n",
      "           4       0.98      0.95      0.96        58\n",
      "\n",
      "    accuracy                           0.97       137\n",
      "   macro avg       0.97      0.97      0.97       137\n",
      "weighted avg       0.97      0.97      0.97       137\n",
      "\n"
     ]
    }
   ],
   "execution_count": 16
  },
  {
   "metadata": {},
   "cell_type": "markdown",
   "source": "",
   "id": "98ed0fdf39610be9"
  },
  {
   "metadata": {},
   "cell_type": "markdown",
   "source": "#### 2. SVM Regression for the Tips Data Set\n",
   "id": "aa0fa6a3c1b3c90d"
  },
  {
   "metadata": {
    "ExecuteTime": {
     "end_time": "2024-10-25T12:44:25.180988Z",
     "start_time": "2024-10-25T12:44:25.169430Z"
    }
   },
   "cell_type": "code",
   "source": [
    "import pandas as pd\n",
    "from sklearn.model_selection import train_test_split,GridSearchCV\n",
    "from sklearn.svm import SVR\n",
    "from sklearn.preprocessing import StandardScaler, OneHotEncoder\n",
    "from sklearn.compose import ColumnTransformer\n",
    "from sklearn.pipeline import Pipeline\n",
    "from sklearn.metrics import mean_squared_error\n",
    "from sklearn.metrics import r2_score"
   ],
   "id": "5e96aecb9c2b6516",
   "outputs": [],
   "execution_count": 17
  },
  {
   "metadata": {
    "ExecuteTime": {
     "end_time": "2024-10-25T12:44:25.187528Z",
     "start_time": "2024-10-25T12:44:25.180988Z"
    }
   },
   "cell_type": "code",
   "source": [
    "\n",
    "file_path = 'tips.csv'\n",
    "tips_df=pd.read_csv(file_path)"
   ],
   "id": "b57b1fcaed085bd8",
   "outputs": [],
   "execution_count": 18
  },
  {
   "metadata": {},
   "cell_type": "markdown",
   "source": "",
   "id": "78ef4a6fe12cdb4"
  },
  {
   "metadata": {
    "ExecuteTime": {
     "end_time": "2024-10-25T12:44:25.192396Z",
     "start_time": "2024-10-25T12:44:25.187528Z"
    }
   },
   "cell_type": "code",
   "source": [
    "#features&target\n",
    "X= tips_df.drop(columns=['tip'])\n",
    "y=tips_df[\"tip\"]"
   ],
   "id": "88906579b5e32f75",
   "outputs": [],
   "execution_count": 19
  },
  {
   "metadata": {
    "ExecuteTime": {
     "end_time": "2024-10-25T12:44:25.202731Z",
     "start_time": "2024-10-25T12:44:25.192396Z"
    }
   },
   "cell_type": "code",
   "source": [
    "\n",
    "print(tips_df.info())"
   ],
   "id": "6ed8d8640edad45c",
   "outputs": [
    {
     "name": "stdout",
     "output_type": "stream",
     "text": [
      "<class 'pandas.core.frame.DataFrame'>\n",
      "RangeIndex: 244 entries, 0 to 243\n",
      "Data columns (total 7 columns):\n",
      " #   Column      Non-Null Count  Dtype  \n",
      "---  ------      --------------  -----  \n",
      " 0   total_bill  244 non-null    float64\n",
      " 1   tip         244 non-null    float64\n",
      " 2   sex         244 non-null    object \n",
      " 3   smoker      244 non-null    object \n",
      " 4   day         244 non-null    object \n",
      " 5   time        244 non-null    object \n",
      " 6   size        244 non-null    int64  \n",
      "dtypes: float64(2), int64(1), object(4)\n",
      "memory usage: 13.5+ KB\n",
      "None\n"
     ]
    }
   ],
   "execution_count": 20
  },
  {
   "metadata": {
    "ExecuteTime": {
     "end_time": "2024-10-25T12:44:25.210419Z",
     "start_time": "2024-10-25T12:44:25.203737Z"
    }
   },
   "cell_type": "code",
   "source": [
    "# Selectează coloanele numerice\n",
    "numeric_features = tips_df.select_dtypes(include=['int64', 'float64']).columns.tolist()\n",
    "\n",
    "# Selectează coloanele categorice\n",
    "categorical_features = tips_df.select_dtypes(include=['object']).columns.tolist()\n",
    "\n",
    "print(\"Coloane numerice:\", numeric_features)\n",
    "print(\"Coloane categorice:\", categorical_features)\n"
   ],
   "id": "69ecac82ddc25b7",
   "outputs": [
    {
     "name": "stdout",
     "output_type": "stream",
     "text": [
      "Coloane numerice: ['total_bill', 'tip', 'size']\n",
      "Coloane categorice: ['sex', 'smoker', 'day', 'time']\n"
     ]
    }
   ],
   "execution_count": 21
  },
  {
   "metadata": {
    "ExecuteTime": {
     "end_time": "2024-10-25T12:44:25.216723Z",
     "start_time": "2024-10-25T12:44:25.211472Z"
    }
   },
   "cell_type": "code",
   "source": [
    "numeric_features = [\"total_bill\", \"size\"]\n",
    "categorical_features = [\"sex\", \"smoker\", \"day\", \"time\"]"
   ],
   "id": "a31834281b9e488a",
   "outputs": [],
   "execution_count": 22
  },
  {
   "metadata": {
    "ExecuteTime": {
     "end_time": "2024-10-25T12:44:25.223147Z",
     "start_time": "2024-10-25T12:44:25.217524Z"
    }
   },
   "cell_type": "code",
   "source": [
    "# Preprocess data: scale numeric features and one-hot encode categorical features\n",
    "preprocessor = ColumnTransformer(\n",
    "    transformers=[\n",
    "        (\"num\", StandardScaler(), numeric_features),\n",
    "        (\"cat\", OneHotEncoder(drop=\"first\"), categorical_features)\n",
    "    ]\n",
    ")"
   ],
   "id": "ced7b67aee06ae2f",
   "outputs": [],
   "execution_count": 23
  },
  {
   "metadata": {
    "ExecuteTime": {
     "end_time": "2024-10-25T12:44:25.229912Z",
     "start_time": "2024-10-25T12:44:25.224208Z"
    }
   },
   "cell_type": "code",
   "source": [
    "# Create a pipeline with preprocessing and an SVM regressor\n",
    "svm_regression_pipeline= Pipeline([\n",
    "    (\"preprocessor\", preprocessor),\n",
    "    (\"svr\", SVR())\n",
    "])\n"
   ],
   "id": "1c7b39fb55343590",
   "outputs": [],
   "execution_count": 24
  },
  {
   "metadata": {
    "ExecuteTime": {
     "end_time": "2024-10-25T12:44:25.237046Z",
     "start_time": "2024-10-25T12:44:25.230916Z"
    }
   },
   "cell_type": "code",
   "source": [
    "# Define a parameter grid for hyperparameter tuning\n",
    "param_grid = {\n",
    "    'svr__C': [0.1, 1, 10, 100],\n",
    "    'svr__epsilon': [0.1, 0.2, 0.5, 1],\n",
    "    'svr__kernel': ['linear', 'rbf', 'poly']\n",
    "}"
   ],
   "id": "ca11ca56f866fa71",
   "outputs": [],
   "execution_count": 25
  },
  {
   "metadata": {
    "ExecuteTime": {
     "end_time": "2024-10-25T12:44:30.459560Z",
     "start_time": "2024-10-25T12:44:25.239051Z"
    }
   },
   "cell_type": "code",
   "source": [
    "# Use GridSearchCV to find the best parameters\n",
    "grid_search = GridSearchCV(svm_regression_pipeline, param_grid, cv=5, scoring='r2')\n",
    "grid_search.fit(X, y)"
   ],
   "id": "86a49e875c8b4552",
   "outputs": [
    {
     "data": {
      "text/plain": [
       "GridSearchCV(cv=5,\n",
       "             estimator=Pipeline(steps=[('preprocessor',\n",
       "                                        ColumnTransformer(transformers=[('num',\n",
       "                                                                         StandardScaler(),\n",
       "                                                                         ['total_bill',\n",
       "                                                                          'size']),\n",
       "                                                                        ('cat',\n",
       "                                                                         OneHotEncoder(drop='first'),\n",
       "                                                                         ['sex',\n",
       "                                                                          'smoker',\n",
       "                                                                          'day',\n",
       "                                                                          'time'])])),\n",
       "                                       ('svr', SVR())]),\n",
       "             param_grid={'svr__C': [0.1, 1, 10, 100],\n",
       "                         'svr__epsilon': [0.1, 0.2, 0.5, 1],\n",
       "                         'svr__kernel': ['linear', 'rbf', 'poly']},\n",
       "             scoring='r2')"
      ],
      "text/html": [
       "<style>#sk-container-id-2 {color: black;}#sk-container-id-2 pre{padding: 0;}#sk-container-id-2 div.sk-toggleable {background-color: white;}#sk-container-id-2 label.sk-toggleable__label {cursor: pointer;display: block;width: 100%;margin-bottom: 0;padding: 0.3em;box-sizing: border-box;text-align: center;}#sk-container-id-2 label.sk-toggleable__label-arrow:before {content: \"▸\";float: left;margin-right: 0.25em;color: #696969;}#sk-container-id-2 label.sk-toggleable__label-arrow:hover:before {color: black;}#sk-container-id-2 div.sk-estimator:hover label.sk-toggleable__label-arrow:before {color: black;}#sk-container-id-2 div.sk-toggleable__content {max-height: 0;max-width: 0;overflow: hidden;text-align: left;background-color: #f0f8ff;}#sk-container-id-2 div.sk-toggleable__content pre {margin: 0.2em;color: black;border-radius: 0.25em;background-color: #f0f8ff;}#sk-container-id-2 input.sk-toggleable__control:checked~div.sk-toggleable__content {max-height: 200px;max-width: 100%;overflow: auto;}#sk-container-id-2 input.sk-toggleable__control:checked~label.sk-toggleable__label-arrow:before {content: \"▾\";}#sk-container-id-2 div.sk-estimator input.sk-toggleable__control:checked~label.sk-toggleable__label {background-color: #d4ebff;}#sk-container-id-2 div.sk-label input.sk-toggleable__control:checked~label.sk-toggleable__label {background-color: #d4ebff;}#sk-container-id-2 input.sk-hidden--visually {border: 0;clip: rect(1px 1px 1px 1px);clip: rect(1px, 1px, 1px, 1px);height: 1px;margin: -1px;overflow: hidden;padding: 0;position: absolute;width: 1px;}#sk-container-id-2 div.sk-estimator {font-family: monospace;background-color: #f0f8ff;border: 1px dotted black;border-radius: 0.25em;box-sizing: border-box;margin-bottom: 0.5em;}#sk-container-id-2 div.sk-estimator:hover {background-color: #d4ebff;}#sk-container-id-2 div.sk-parallel-item::after {content: \"\";width: 100%;border-bottom: 1px solid gray;flex-grow: 1;}#sk-container-id-2 div.sk-label:hover label.sk-toggleable__label {background-color: #d4ebff;}#sk-container-id-2 div.sk-serial::before {content: \"\";position: absolute;border-left: 1px solid gray;box-sizing: border-box;top: 0;bottom: 0;left: 50%;z-index: 0;}#sk-container-id-2 div.sk-serial {display: flex;flex-direction: column;align-items: center;background-color: white;padding-right: 0.2em;padding-left: 0.2em;position: relative;}#sk-container-id-2 div.sk-item {position: relative;z-index: 1;}#sk-container-id-2 div.sk-parallel {display: flex;align-items: stretch;justify-content: center;background-color: white;position: relative;}#sk-container-id-2 div.sk-item::before, #sk-container-id-2 div.sk-parallel-item::before {content: \"\";position: absolute;border-left: 1px solid gray;box-sizing: border-box;top: 0;bottom: 0;left: 50%;z-index: -1;}#sk-container-id-2 div.sk-parallel-item {display: flex;flex-direction: column;z-index: 1;position: relative;background-color: white;}#sk-container-id-2 div.sk-parallel-item:first-child::after {align-self: flex-end;width: 50%;}#sk-container-id-2 div.sk-parallel-item:last-child::after {align-self: flex-start;width: 50%;}#sk-container-id-2 div.sk-parallel-item:only-child::after {width: 0;}#sk-container-id-2 div.sk-dashed-wrapped {border: 1px dashed gray;margin: 0 0.4em 0.5em 0.4em;box-sizing: border-box;padding-bottom: 0.4em;background-color: white;}#sk-container-id-2 div.sk-label label {font-family: monospace;font-weight: bold;display: inline-block;line-height: 1.2em;}#sk-container-id-2 div.sk-label-container {text-align: center;}#sk-container-id-2 div.sk-container {/* jupyter's `normalize.less` sets `[hidden] { display: none; }` but bootstrap.min.css set `[hidden] { display: none !important; }` so we also need the `!important` here to be able to override the default hidden behavior on the sphinx rendered scikit-learn.org. See: https://github.com/scikit-learn/scikit-learn/issues/21755 */display: inline-block !important;position: relative;}#sk-container-id-2 div.sk-text-repr-fallback {display: none;}</style><div id=\"sk-container-id-2\" class=\"sk-top-container\"><div class=\"sk-text-repr-fallback\"><pre>GridSearchCV(cv=5,\n",
       "             estimator=Pipeline(steps=[(&#x27;preprocessor&#x27;,\n",
       "                                        ColumnTransformer(transformers=[(&#x27;num&#x27;,\n",
       "                                                                         StandardScaler(),\n",
       "                                                                         [&#x27;total_bill&#x27;,\n",
       "                                                                          &#x27;size&#x27;]),\n",
       "                                                                        (&#x27;cat&#x27;,\n",
       "                                                                         OneHotEncoder(drop=&#x27;first&#x27;),\n",
       "                                                                         [&#x27;sex&#x27;,\n",
       "                                                                          &#x27;smoker&#x27;,\n",
       "                                                                          &#x27;day&#x27;,\n",
       "                                                                          &#x27;time&#x27;])])),\n",
       "                                       (&#x27;svr&#x27;, SVR())]),\n",
       "             param_grid={&#x27;svr__C&#x27;: [0.1, 1, 10, 100],\n",
       "                         &#x27;svr__epsilon&#x27;: [0.1, 0.2, 0.5, 1],\n",
       "                         &#x27;svr__kernel&#x27;: [&#x27;linear&#x27;, &#x27;rbf&#x27;, &#x27;poly&#x27;]},\n",
       "             scoring=&#x27;r2&#x27;)</pre><b>In a Jupyter environment, please rerun this cell to show the HTML representation or trust the notebook. <br />On GitHub, the HTML representation is unable to render, please try loading this page with nbviewer.org.</b></div><div class=\"sk-container\" hidden><div class=\"sk-item sk-dashed-wrapped\"><div class=\"sk-label-container\"><div class=\"sk-label sk-toggleable\"><input class=\"sk-toggleable__control sk-hidden--visually\" id=\"sk-estimator-id-2\" type=\"checkbox\" ><label for=\"sk-estimator-id-2\" class=\"sk-toggleable__label sk-toggleable__label-arrow\">GridSearchCV</label><div class=\"sk-toggleable__content\"><pre>GridSearchCV(cv=5,\n",
       "             estimator=Pipeline(steps=[(&#x27;preprocessor&#x27;,\n",
       "                                        ColumnTransformer(transformers=[(&#x27;num&#x27;,\n",
       "                                                                         StandardScaler(),\n",
       "                                                                         [&#x27;total_bill&#x27;,\n",
       "                                                                          &#x27;size&#x27;]),\n",
       "                                                                        (&#x27;cat&#x27;,\n",
       "                                                                         OneHotEncoder(drop=&#x27;first&#x27;),\n",
       "                                                                         [&#x27;sex&#x27;,\n",
       "                                                                          &#x27;smoker&#x27;,\n",
       "                                                                          &#x27;day&#x27;,\n",
       "                                                                          &#x27;time&#x27;])])),\n",
       "                                       (&#x27;svr&#x27;, SVR())]),\n",
       "             param_grid={&#x27;svr__C&#x27;: [0.1, 1, 10, 100],\n",
       "                         &#x27;svr__epsilon&#x27;: [0.1, 0.2, 0.5, 1],\n",
       "                         &#x27;svr__kernel&#x27;: [&#x27;linear&#x27;, &#x27;rbf&#x27;, &#x27;poly&#x27;]},\n",
       "             scoring=&#x27;r2&#x27;)</pre></div></div></div><div class=\"sk-parallel\"><div class=\"sk-parallel-item\"><div class=\"sk-item\"><div class=\"sk-label-container\"><div class=\"sk-label sk-toggleable\"><input class=\"sk-toggleable__control sk-hidden--visually\" id=\"sk-estimator-id-3\" type=\"checkbox\" ><label for=\"sk-estimator-id-3\" class=\"sk-toggleable__label sk-toggleable__label-arrow\">estimator: Pipeline</label><div class=\"sk-toggleable__content\"><pre>Pipeline(steps=[(&#x27;preprocessor&#x27;,\n",
       "                 ColumnTransformer(transformers=[(&#x27;num&#x27;, StandardScaler(),\n",
       "                                                  [&#x27;total_bill&#x27;, &#x27;size&#x27;]),\n",
       "                                                 (&#x27;cat&#x27;,\n",
       "                                                  OneHotEncoder(drop=&#x27;first&#x27;),\n",
       "                                                  [&#x27;sex&#x27;, &#x27;smoker&#x27;, &#x27;day&#x27;,\n",
       "                                                   &#x27;time&#x27;])])),\n",
       "                (&#x27;svr&#x27;, SVR())])</pre></div></div></div><div class=\"sk-serial\"><div class=\"sk-item\"><div class=\"sk-serial\"><div class=\"sk-item sk-dashed-wrapped\"><div class=\"sk-label-container\"><div class=\"sk-label sk-toggleable\"><input class=\"sk-toggleable__control sk-hidden--visually\" id=\"sk-estimator-id-4\" type=\"checkbox\" ><label for=\"sk-estimator-id-4\" class=\"sk-toggleable__label sk-toggleable__label-arrow\">preprocessor: ColumnTransformer</label><div class=\"sk-toggleable__content\"><pre>ColumnTransformer(transformers=[(&#x27;num&#x27;, StandardScaler(),\n",
       "                                 [&#x27;total_bill&#x27;, &#x27;size&#x27;]),\n",
       "                                (&#x27;cat&#x27;, OneHotEncoder(drop=&#x27;first&#x27;),\n",
       "                                 [&#x27;sex&#x27;, &#x27;smoker&#x27;, &#x27;day&#x27;, &#x27;time&#x27;])])</pre></div></div></div><div class=\"sk-parallel\"><div class=\"sk-parallel-item\"><div class=\"sk-item\"><div class=\"sk-label-container\"><div class=\"sk-label sk-toggleable\"><input class=\"sk-toggleable__control sk-hidden--visually\" id=\"sk-estimator-id-5\" type=\"checkbox\" ><label for=\"sk-estimator-id-5\" class=\"sk-toggleable__label sk-toggleable__label-arrow\">num</label><div class=\"sk-toggleable__content\"><pre>[&#x27;total_bill&#x27;, &#x27;size&#x27;]</pre></div></div></div><div class=\"sk-serial\"><div class=\"sk-item\"><div class=\"sk-estimator sk-toggleable\"><input class=\"sk-toggleable__control sk-hidden--visually\" id=\"sk-estimator-id-6\" type=\"checkbox\" ><label for=\"sk-estimator-id-6\" class=\"sk-toggleable__label sk-toggleable__label-arrow\">StandardScaler</label><div class=\"sk-toggleable__content\"><pre>StandardScaler()</pre></div></div></div></div></div></div><div class=\"sk-parallel-item\"><div class=\"sk-item\"><div class=\"sk-label-container\"><div class=\"sk-label sk-toggleable\"><input class=\"sk-toggleable__control sk-hidden--visually\" id=\"sk-estimator-id-7\" type=\"checkbox\" ><label for=\"sk-estimator-id-7\" class=\"sk-toggleable__label sk-toggleable__label-arrow\">cat</label><div class=\"sk-toggleable__content\"><pre>[&#x27;sex&#x27;, &#x27;smoker&#x27;, &#x27;day&#x27;, &#x27;time&#x27;]</pre></div></div></div><div class=\"sk-serial\"><div class=\"sk-item\"><div class=\"sk-estimator sk-toggleable\"><input class=\"sk-toggleable__control sk-hidden--visually\" id=\"sk-estimator-id-8\" type=\"checkbox\" ><label for=\"sk-estimator-id-8\" class=\"sk-toggleable__label sk-toggleable__label-arrow\">OneHotEncoder</label><div class=\"sk-toggleable__content\"><pre>OneHotEncoder(drop=&#x27;first&#x27;)</pre></div></div></div></div></div></div></div></div><div class=\"sk-item\"><div class=\"sk-estimator sk-toggleable\"><input class=\"sk-toggleable__control sk-hidden--visually\" id=\"sk-estimator-id-9\" type=\"checkbox\" ><label for=\"sk-estimator-id-9\" class=\"sk-toggleable__label sk-toggleable__label-arrow\">SVR</label><div class=\"sk-toggleable__content\"><pre>SVR()</pre></div></div></div></div></div></div></div></div></div></div></div></div>"
      ]
     },
     "execution_count": 26,
     "metadata": {},
     "output_type": "execute_result"
    }
   ],
   "execution_count": 26
  },
  {
   "metadata": {
    "ExecuteTime": {
     "end_time": "2024-10-25T12:44:30.464118Z",
     "start_time": "2024-10-25T12:44:30.459560Z"
    }
   },
   "cell_type": "code",
   "source": [
    "# Print the best parameters from GridSearchCV\n",
    "print(\"Best parameters:\", grid_search.best_params_)"
   ],
   "id": "9f01036c13249c5",
   "outputs": [
    {
     "name": "stdout",
     "output_type": "stream",
     "text": [
      "Best parameters: {'svr__C': 0.1, 'svr__epsilon': 0.2, 'svr__kernel': 'linear'}\n"
     ]
    }
   ],
   "execution_count": 27
  },
  {
   "metadata": {},
   "cell_type": "markdown",
   "source": "",
   "id": "df4b20efffdbf992"
  },
  {
   "metadata": {
    "ExecuteTime": {
     "end_time": "2024-10-25T12:44:30.472615Z",
     "start_time": "2024-10-25T12:44:30.464118Z"
    }
   },
   "cell_type": "code",
   "source": [
    "#Split the data\n",
    "X_train, X_test, y_train, y_test =train_test_split(X, y, test_size=0.2, random_state=42 )\n",
    "\n"
   ],
   "id": "7032e21bdca3d7f8",
   "outputs": [],
   "execution_count": 28
  },
  {
   "metadata": {
    "ExecuteTime": {
     "end_time": "2024-10-25T12:44:30.497464Z",
     "start_time": "2024-10-25T12:44:30.472615Z"
    }
   },
   "cell_type": "code",
   "source": [
    "# Train the best SVM model on the training data\n",
    "best_svm_model = grid_search.best_estimator_\n",
    "best_svm_model.fit(X_train, y_train)"
   ],
   "id": "3b4532f676ceb61",
   "outputs": [
    {
     "data": {
      "text/plain": [
       "Pipeline(steps=[('preprocessor',\n",
       "                 ColumnTransformer(transformers=[('num', StandardScaler(),\n",
       "                                                  ['total_bill', 'size']),\n",
       "                                                 ('cat',\n",
       "                                                  OneHotEncoder(drop='first'),\n",
       "                                                  ['sex', 'smoker', 'day',\n",
       "                                                   'time'])])),\n",
       "                ('svr', SVR(C=0.1, epsilon=0.2, kernel='linear'))])"
      ],
      "text/html": [
       "<style>#sk-container-id-3 {color: black;}#sk-container-id-3 pre{padding: 0;}#sk-container-id-3 div.sk-toggleable {background-color: white;}#sk-container-id-3 label.sk-toggleable__label {cursor: pointer;display: block;width: 100%;margin-bottom: 0;padding: 0.3em;box-sizing: border-box;text-align: center;}#sk-container-id-3 label.sk-toggleable__label-arrow:before {content: \"▸\";float: left;margin-right: 0.25em;color: #696969;}#sk-container-id-3 label.sk-toggleable__label-arrow:hover:before {color: black;}#sk-container-id-3 div.sk-estimator:hover label.sk-toggleable__label-arrow:before {color: black;}#sk-container-id-3 div.sk-toggleable__content {max-height: 0;max-width: 0;overflow: hidden;text-align: left;background-color: #f0f8ff;}#sk-container-id-3 div.sk-toggleable__content pre {margin: 0.2em;color: black;border-radius: 0.25em;background-color: #f0f8ff;}#sk-container-id-3 input.sk-toggleable__control:checked~div.sk-toggleable__content {max-height: 200px;max-width: 100%;overflow: auto;}#sk-container-id-3 input.sk-toggleable__control:checked~label.sk-toggleable__label-arrow:before {content: \"▾\";}#sk-container-id-3 div.sk-estimator input.sk-toggleable__control:checked~label.sk-toggleable__label {background-color: #d4ebff;}#sk-container-id-3 div.sk-label input.sk-toggleable__control:checked~label.sk-toggleable__label {background-color: #d4ebff;}#sk-container-id-3 input.sk-hidden--visually {border: 0;clip: rect(1px 1px 1px 1px);clip: rect(1px, 1px, 1px, 1px);height: 1px;margin: -1px;overflow: hidden;padding: 0;position: absolute;width: 1px;}#sk-container-id-3 div.sk-estimator {font-family: monospace;background-color: #f0f8ff;border: 1px dotted black;border-radius: 0.25em;box-sizing: border-box;margin-bottom: 0.5em;}#sk-container-id-3 div.sk-estimator:hover {background-color: #d4ebff;}#sk-container-id-3 div.sk-parallel-item::after {content: \"\";width: 100%;border-bottom: 1px solid gray;flex-grow: 1;}#sk-container-id-3 div.sk-label:hover label.sk-toggleable__label {background-color: #d4ebff;}#sk-container-id-3 div.sk-serial::before {content: \"\";position: absolute;border-left: 1px solid gray;box-sizing: border-box;top: 0;bottom: 0;left: 50%;z-index: 0;}#sk-container-id-3 div.sk-serial {display: flex;flex-direction: column;align-items: center;background-color: white;padding-right: 0.2em;padding-left: 0.2em;position: relative;}#sk-container-id-3 div.sk-item {position: relative;z-index: 1;}#sk-container-id-3 div.sk-parallel {display: flex;align-items: stretch;justify-content: center;background-color: white;position: relative;}#sk-container-id-3 div.sk-item::before, #sk-container-id-3 div.sk-parallel-item::before {content: \"\";position: absolute;border-left: 1px solid gray;box-sizing: border-box;top: 0;bottom: 0;left: 50%;z-index: -1;}#sk-container-id-3 div.sk-parallel-item {display: flex;flex-direction: column;z-index: 1;position: relative;background-color: white;}#sk-container-id-3 div.sk-parallel-item:first-child::after {align-self: flex-end;width: 50%;}#sk-container-id-3 div.sk-parallel-item:last-child::after {align-self: flex-start;width: 50%;}#sk-container-id-3 div.sk-parallel-item:only-child::after {width: 0;}#sk-container-id-3 div.sk-dashed-wrapped {border: 1px dashed gray;margin: 0 0.4em 0.5em 0.4em;box-sizing: border-box;padding-bottom: 0.4em;background-color: white;}#sk-container-id-3 div.sk-label label {font-family: monospace;font-weight: bold;display: inline-block;line-height: 1.2em;}#sk-container-id-3 div.sk-label-container {text-align: center;}#sk-container-id-3 div.sk-container {/* jupyter's `normalize.less` sets `[hidden] { display: none; }` but bootstrap.min.css set `[hidden] { display: none !important; }` so we also need the `!important` here to be able to override the default hidden behavior on the sphinx rendered scikit-learn.org. See: https://github.com/scikit-learn/scikit-learn/issues/21755 */display: inline-block !important;position: relative;}#sk-container-id-3 div.sk-text-repr-fallback {display: none;}</style><div id=\"sk-container-id-3\" class=\"sk-top-container\"><div class=\"sk-text-repr-fallback\"><pre>Pipeline(steps=[(&#x27;preprocessor&#x27;,\n",
       "                 ColumnTransformer(transformers=[(&#x27;num&#x27;, StandardScaler(),\n",
       "                                                  [&#x27;total_bill&#x27;, &#x27;size&#x27;]),\n",
       "                                                 (&#x27;cat&#x27;,\n",
       "                                                  OneHotEncoder(drop=&#x27;first&#x27;),\n",
       "                                                  [&#x27;sex&#x27;, &#x27;smoker&#x27;, &#x27;day&#x27;,\n",
       "                                                   &#x27;time&#x27;])])),\n",
       "                (&#x27;svr&#x27;, SVR(C=0.1, epsilon=0.2, kernel=&#x27;linear&#x27;))])</pre><b>In a Jupyter environment, please rerun this cell to show the HTML representation or trust the notebook. <br />On GitHub, the HTML representation is unable to render, please try loading this page with nbviewer.org.</b></div><div class=\"sk-container\" hidden><div class=\"sk-item sk-dashed-wrapped\"><div class=\"sk-label-container\"><div class=\"sk-label sk-toggleable\"><input class=\"sk-toggleable__control sk-hidden--visually\" id=\"sk-estimator-id-10\" type=\"checkbox\" ><label for=\"sk-estimator-id-10\" class=\"sk-toggleable__label sk-toggleable__label-arrow\">Pipeline</label><div class=\"sk-toggleable__content\"><pre>Pipeline(steps=[(&#x27;preprocessor&#x27;,\n",
       "                 ColumnTransformer(transformers=[(&#x27;num&#x27;, StandardScaler(),\n",
       "                                                  [&#x27;total_bill&#x27;, &#x27;size&#x27;]),\n",
       "                                                 (&#x27;cat&#x27;,\n",
       "                                                  OneHotEncoder(drop=&#x27;first&#x27;),\n",
       "                                                  [&#x27;sex&#x27;, &#x27;smoker&#x27;, &#x27;day&#x27;,\n",
       "                                                   &#x27;time&#x27;])])),\n",
       "                (&#x27;svr&#x27;, SVR(C=0.1, epsilon=0.2, kernel=&#x27;linear&#x27;))])</pre></div></div></div><div class=\"sk-serial\"><div class=\"sk-item sk-dashed-wrapped\"><div class=\"sk-label-container\"><div class=\"sk-label sk-toggleable\"><input class=\"sk-toggleable__control sk-hidden--visually\" id=\"sk-estimator-id-11\" type=\"checkbox\" ><label for=\"sk-estimator-id-11\" class=\"sk-toggleable__label sk-toggleable__label-arrow\">preprocessor: ColumnTransformer</label><div class=\"sk-toggleable__content\"><pre>ColumnTransformer(transformers=[(&#x27;num&#x27;, StandardScaler(),\n",
       "                                 [&#x27;total_bill&#x27;, &#x27;size&#x27;]),\n",
       "                                (&#x27;cat&#x27;, OneHotEncoder(drop=&#x27;first&#x27;),\n",
       "                                 [&#x27;sex&#x27;, &#x27;smoker&#x27;, &#x27;day&#x27;, &#x27;time&#x27;])])</pre></div></div></div><div class=\"sk-parallel\"><div class=\"sk-parallel-item\"><div class=\"sk-item\"><div class=\"sk-label-container\"><div class=\"sk-label sk-toggleable\"><input class=\"sk-toggleable__control sk-hidden--visually\" id=\"sk-estimator-id-12\" type=\"checkbox\" ><label for=\"sk-estimator-id-12\" class=\"sk-toggleable__label sk-toggleable__label-arrow\">num</label><div class=\"sk-toggleable__content\"><pre>[&#x27;total_bill&#x27;, &#x27;size&#x27;]</pre></div></div></div><div class=\"sk-serial\"><div class=\"sk-item\"><div class=\"sk-estimator sk-toggleable\"><input class=\"sk-toggleable__control sk-hidden--visually\" id=\"sk-estimator-id-13\" type=\"checkbox\" ><label for=\"sk-estimator-id-13\" class=\"sk-toggleable__label sk-toggleable__label-arrow\">StandardScaler</label><div class=\"sk-toggleable__content\"><pre>StandardScaler()</pre></div></div></div></div></div></div><div class=\"sk-parallel-item\"><div class=\"sk-item\"><div class=\"sk-label-container\"><div class=\"sk-label sk-toggleable\"><input class=\"sk-toggleable__control sk-hidden--visually\" id=\"sk-estimator-id-14\" type=\"checkbox\" ><label for=\"sk-estimator-id-14\" class=\"sk-toggleable__label sk-toggleable__label-arrow\">cat</label><div class=\"sk-toggleable__content\"><pre>[&#x27;sex&#x27;, &#x27;smoker&#x27;, &#x27;day&#x27;, &#x27;time&#x27;]</pre></div></div></div><div class=\"sk-serial\"><div class=\"sk-item\"><div class=\"sk-estimator sk-toggleable\"><input class=\"sk-toggleable__control sk-hidden--visually\" id=\"sk-estimator-id-15\" type=\"checkbox\" ><label for=\"sk-estimator-id-15\" class=\"sk-toggleable__label sk-toggleable__label-arrow\">OneHotEncoder</label><div class=\"sk-toggleable__content\"><pre>OneHotEncoder(drop=&#x27;first&#x27;)</pre></div></div></div></div></div></div></div></div><div class=\"sk-item\"><div class=\"sk-estimator sk-toggleable\"><input class=\"sk-toggleable__control sk-hidden--visually\" id=\"sk-estimator-id-16\" type=\"checkbox\" ><label for=\"sk-estimator-id-16\" class=\"sk-toggleable__label sk-toggleable__label-arrow\">SVR</label><div class=\"sk-toggleable__content\"><pre>SVR(C=0.1, epsilon=0.2, kernel=&#x27;linear&#x27;)</pre></div></div></div></div></div></div></div>"
      ]
     },
     "execution_count": 29,
     "metadata": {},
     "output_type": "execute_result"
    }
   ],
   "execution_count": 29
  },
  {
   "metadata": {},
   "cell_type": "markdown",
   "source": "",
   "id": "9a7811ec7e42789b"
  },
  {
   "metadata": {
    "ExecuteTime": {
     "end_time": "2024-10-25T12:44:30.501516Z",
     "start_time": "2024-10-25T12:44:30.498643Z"
    }
   },
   "cell_type": "code",
   "source": "",
   "id": "da75d23caff54f3",
   "outputs": [],
   "execution_count": 29
  },
  {
   "metadata": {
    "ExecuteTime": {
     "end_time": "2024-10-25T12:44:30.509944Z",
     "start_time": "2024-10-25T12:44:30.502523Z"
    }
   },
   "cell_type": "code",
   "source": [
    "#Prediction\n",
    "y_pred = best_svm_model.predict(X_test)\n",
    "mse = mean_squared_error(y_test, y_pred)\n",
    "r_squared = r2_score(y_test, y_pred)"
   ],
   "id": "30631f627796954d",
   "outputs": [],
   "execution_count": 30
  },
  {
   "metadata": {
    "ExecuteTime": {
     "end_time": "2024-10-25T12:44:30.515812Z",
     "start_time": "2024-10-25T12:44:30.510948Z"
    }
   },
   "cell_type": "code",
   "source": [
    "# Print the mean squared error and R^2\n",
    "print(f\"MSE: {mse}\")\n",
    "print(f\"R2: {r_squared}\")"
   ],
   "id": "818c9d7cdb476703",
   "outputs": [
    {
     "name": "stdout",
     "output_type": "stream",
     "text": [
      "MSE: 0.6539107347086293\n",
      "R2: 0.47685941987260916\n"
     ]
    }
   ],
   "execution_count": 31
  },
  {
   "metadata": {},
   "cell_type": "markdown",
   "source": [
    "#### 3. SVM Regression for the music-sub.csv dataset\n",
    "<font color = 'orange'> Nu-mi merge mie, efectiv se blocheaza la fit the model </font>\n"
   ],
   "id": "27004286148a64f4"
  },
  {
   "metadata": {
    "ExecuteTime": {
     "end_time": "2024-10-25T12:44:30.528172Z",
     "start_time": "2024-10-25T12:44:30.516817Z"
    }
   },
   "cell_type": "code",
   "source": [
    "import pandas as pd\n",
    "\n",
    "# Load the dataset\n",
    "data = pd.read_csv('music-sub.csv')\n",
    "\n",
    "# Display the first few rows of the dataset\n",
    "print(data.head())\n"
   ],
   "id": "11449c5fbf07c309",
   "outputs": [
    {
     "name": "stdout",
     "output_type": "stream",
     "text": [
      "      Unnamed: 0 Artist  Type        LVar       LAve   LMax     LFEner  \\\n",
      "0  Dancing Queen   Abba  Rock  17600755.6 -90.006867  29921  105.92095   \n",
      "1     Knowing Me   Abba  Rock   9543020.9 -75.766719  27626  102.83616   \n",
      "2  Take a Chance   Abba  Rock   9049481.5 -98.062924  26372  102.32488   \n",
      "3      Mamma Mia   Abba  Rock   7557437.3 -90.471062  28898  101.61648   \n",
      "4    Lay All You   Abba  Rock   6282285.6 -88.952631  27940  100.30076   \n",
      "\n",
      "       LFreq  \n",
      "0   59.57379  \n",
      "1   58.48031  \n",
      "2  124.59397  \n",
      "3   48.76513  \n",
      "4   74.02039  \n"
     ]
    }
   ],
   "execution_count": 32
  },
  {
   "metadata": {
    "ExecuteTime": {
     "end_time": "2024-10-25T12:44:30.538194Z",
     "start_time": "2024-10-25T12:44:30.529177Z"
    }
   },
   "cell_type": "code",
   "source": "data.head()",
   "id": "9884083091eed833",
   "outputs": [
    {
     "data": {
      "text/plain": [
       "      Unnamed: 0 Artist  Type        LVar       LAve   LMax     LFEner  \\\n",
       "0  Dancing Queen   Abba  Rock  17600755.6 -90.006867  29921  105.92095   \n",
       "1     Knowing Me   Abba  Rock   9543020.9 -75.766719  27626  102.83616   \n",
       "2  Take a Chance   Abba  Rock   9049481.5 -98.062924  26372  102.32488   \n",
       "3      Mamma Mia   Abba  Rock   7557437.3 -90.471062  28898  101.61648   \n",
       "4    Lay All You   Abba  Rock   6282285.6 -88.952631  27940  100.30076   \n",
       "\n",
       "       LFreq  \n",
       "0   59.57379  \n",
       "1   58.48031  \n",
       "2  124.59397  \n",
       "3   48.76513  \n",
       "4   74.02039  "
      ],
      "text/html": [
       "<div>\n",
       "<style scoped>\n",
       "    .dataframe tbody tr th:only-of-type {\n",
       "        vertical-align: middle;\n",
       "    }\n",
       "\n",
       "    .dataframe tbody tr th {\n",
       "        vertical-align: top;\n",
       "    }\n",
       "\n",
       "    .dataframe thead th {\n",
       "        text-align: right;\n",
       "    }\n",
       "</style>\n",
       "<table border=\"1\" class=\"dataframe\">\n",
       "  <thead>\n",
       "    <tr style=\"text-align: right;\">\n",
       "      <th></th>\n",
       "      <th>Unnamed: 0</th>\n",
       "      <th>Artist</th>\n",
       "      <th>Type</th>\n",
       "      <th>LVar</th>\n",
       "      <th>LAve</th>\n",
       "      <th>LMax</th>\n",
       "      <th>LFEner</th>\n",
       "      <th>LFreq</th>\n",
       "    </tr>\n",
       "  </thead>\n",
       "  <tbody>\n",
       "    <tr>\n",
       "      <th>0</th>\n",
       "      <td>Dancing Queen</td>\n",
       "      <td>Abba</td>\n",
       "      <td>Rock</td>\n",
       "      <td>17600755.6</td>\n",
       "      <td>-90.006867</td>\n",
       "      <td>29921</td>\n",
       "      <td>105.92095</td>\n",
       "      <td>59.57379</td>\n",
       "    </tr>\n",
       "    <tr>\n",
       "      <th>1</th>\n",
       "      <td>Knowing Me</td>\n",
       "      <td>Abba</td>\n",
       "      <td>Rock</td>\n",
       "      <td>9543020.9</td>\n",
       "      <td>-75.766719</td>\n",
       "      <td>27626</td>\n",
       "      <td>102.83616</td>\n",
       "      <td>58.48031</td>\n",
       "    </tr>\n",
       "    <tr>\n",
       "      <th>2</th>\n",
       "      <td>Take a Chance</td>\n",
       "      <td>Abba</td>\n",
       "      <td>Rock</td>\n",
       "      <td>9049481.5</td>\n",
       "      <td>-98.062924</td>\n",
       "      <td>26372</td>\n",
       "      <td>102.32488</td>\n",
       "      <td>124.59397</td>\n",
       "    </tr>\n",
       "    <tr>\n",
       "      <th>3</th>\n",
       "      <td>Mamma Mia</td>\n",
       "      <td>Abba</td>\n",
       "      <td>Rock</td>\n",
       "      <td>7557437.3</td>\n",
       "      <td>-90.471062</td>\n",
       "      <td>28898</td>\n",
       "      <td>101.61648</td>\n",
       "      <td>48.76513</td>\n",
       "    </tr>\n",
       "    <tr>\n",
       "      <th>4</th>\n",
       "      <td>Lay All You</td>\n",
       "      <td>Abba</td>\n",
       "      <td>Rock</td>\n",
       "      <td>6282285.6</td>\n",
       "      <td>-88.952631</td>\n",
       "      <td>27940</td>\n",
       "      <td>100.30076</td>\n",
       "      <td>74.02039</td>\n",
       "    </tr>\n",
       "  </tbody>\n",
       "</table>\n",
       "</div>"
      ]
     },
     "execution_count": 33,
     "metadata": {},
     "output_type": "execute_result"
    }
   ],
   "execution_count": 33
  },
  {
   "metadata": {
    "ExecuteTime": {
     "end_time": "2024-10-25T12:44:30.543483Z",
     "start_time": "2024-10-25T12:44:30.540198Z"
    }
   },
   "cell_type": "code",
   "source": [
    "data['Title']=data['Unnamed: 0']\n",
    "data.drop(columns='Unnamed: 0', inplace=True)"
   ],
   "id": "fbf939bb05a52b69",
   "outputs": [],
   "execution_count": 34
  },
  {
   "metadata": {
    "ExecuteTime": {
     "end_time": "2024-10-25T12:44:30.550860Z",
     "start_time": "2024-10-25T12:44:30.544489Z"
    }
   },
   "cell_type": "code",
   "source": "print(data.isnull().sum())\n",
   "id": "b148169666852d62",
   "outputs": [
    {
     "name": "stdout",
     "output_type": "stream",
     "text": [
      "Artist    0\n",
      "Type      0\n",
      "LVar      0\n",
      "LAve      0\n",
      "LMax      0\n",
      "LFEner    0\n",
      "LFreq     0\n",
      "Title     0\n",
      "dtype: int64\n"
     ]
    }
   ],
   "execution_count": 35
  },
  {
   "metadata": {
    "ExecuteTime": {
     "end_time": "2024-10-25T12:44:30.557963Z",
     "start_time": "2024-10-25T12:44:30.551865Z"
    }
   },
   "cell_type": "code",
   "source": "data.columns",
   "id": "cd2190fc82e03298",
   "outputs": [
    {
     "data": {
      "text/plain": [
       "Index(['Artist', 'Type', 'LVar', 'LAve', 'LMax', 'LFEner', 'LFreq', 'Title'], dtype='object')"
      ]
     },
     "execution_count": 36,
     "metadata": {},
     "output_type": "execute_result"
    }
   ],
   "execution_count": 36
  },
  {
   "metadata": {
    "ExecuteTime": {
     "end_time": "2024-10-25T12:44:30.570206Z",
     "start_time": "2024-10-25T12:44:30.558967Z"
    }
   },
   "cell_type": "code",
   "source": [
    "new_order = ['Title'] + [col for col in data.columns if col != 'Title']\n",
    "df = data[new_order]\n",
    "df.head()"
   ],
   "id": "6a73fcf4f8333e43",
   "outputs": [
    {
     "data": {
      "text/plain": [
       "           Title Artist  Type        LVar       LAve   LMax     LFEner  \\\n",
       "0  Dancing Queen   Abba  Rock  17600755.6 -90.006867  29921  105.92095   \n",
       "1     Knowing Me   Abba  Rock   9543020.9 -75.766719  27626  102.83616   \n",
       "2  Take a Chance   Abba  Rock   9049481.5 -98.062924  26372  102.32488   \n",
       "3      Mamma Mia   Abba  Rock   7557437.3 -90.471062  28898  101.61648   \n",
       "4    Lay All You   Abba  Rock   6282285.6 -88.952631  27940  100.30076   \n",
       "\n",
       "       LFreq  \n",
       "0   59.57379  \n",
       "1   58.48031  \n",
       "2  124.59397  \n",
       "3   48.76513  \n",
       "4   74.02039  "
      ],
      "text/html": [
       "<div>\n",
       "<style scoped>\n",
       "    .dataframe tbody tr th:only-of-type {\n",
       "        vertical-align: middle;\n",
       "    }\n",
       "\n",
       "    .dataframe tbody tr th {\n",
       "        vertical-align: top;\n",
       "    }\n",
       "\n",
       "    .dataframe thead th {\n",
       "        text-align: right;\n",
       "    }\n",
       "</style>\n",
       "<table border=\"1\" class=\"dataframe\">\n",
       "  <thead>\n",
       "    <tr style=\"text-align: right;\">\n",
       "      <th></th>\n",
       "      <th>Title</th>\n",
       "      <th>Artist</th>\n",
       "      <th>Type</th>\n",
       "      <th>LVar</th>\n",
       "      <th>LAve</th>\n",
       "      <th>LMax</th>\n",
       "      <th>LFEner</th>\n",
       "      <th>LFreq</th>\n",
       "    </tr>\n",
       "  </thead>\n",
       "  <tbody>\n",
       "    <tr>\n",
       "      <th>0</th>\n",
       "      <td>Dancing Queen</td>\n",
       "      <td>Abba</td>\n",
       "      <td>Rock</td>\n",
       "      <td>17600755.6</td>\n",
       "      <td>-90.006867</td>\n",
       "      <td>29921</td>\n",
       "      <td>105.92095</td>\n",
       "      <td>59.57379</td>\n",
       "    </tr>\n",
       "    <tr>\n",
       "      <th>1</th>\n",
       "      <td>Knowing Me</td>\n",
       "      <td>Abba</td>\n",
       "      <td>Rock</td>\n",
       "      <td>9543020.9</td>\n",
       "      <td>-75.766719</td>\n",
       "      <td>27626</td>\n",
       "      <td>102.83616</td>\n",
       "      <td>58.48031</td>\n",
       "    </tr>\n",
       "    <tr>\n",
       "      <th>2</th>\n",
       "      <td>Take a Chance</td>\n",
       "      <td>Abba</td>\n",
       "      <td>Rock</td>\n",
       "      <td>9049481.5</td>\n",
       "      <td>-98.062924</td>\n",
       "      <td>26372</td>\n",
       "      <td>102.32488</td>\n",
       "      <td>124.59397</td>\n",
       "    </tr>\n",
       "    <tr>\n",
       "      <th>3</th>\n",
       "      <td>Mamma Mia</td>\n",
       "      <td>Abba</td>\n",
       "      <td>Rock</td>\n",
       "      <td>7557437.3</td>\n",
       "      <td>-90.471062</td>\n",
       "      <td>28898</td>\n",
       "      <td>101.61648</td>\n",
       "      <td>48.76513</td>\n",
       "    </tr>\n",
       "    <tr>\n",
       "      <th>4</th>\n",
       "      <td>Lay All You</td>\n",
       "      <td>Abba</td>\n",
       "      <td>Rock</td>\n",
       "      <td>6282285.6</td>\n",
       "      <td>-88.952631</td>\n",
       "      <td>27940</td>\n",
       "      <td>100.30076</td>\n",
       "      <td>74.02039</td>\n",
       "    </tr>\n",
       "  </tbody>\n",
       "</table>\n",
       "</div>"
      ]
     },
     "execution_count": 37,
     "metadata": {},
     "output_type": "execute_result"
    }
   ],
   "execution_count": 37
  },
  {
   "metadata": {
    "ExecuteTime": {
     "end_time": "2024-10-25T12:44:30.577355Z",
     "start_time": "2024-10-25T12:44:30.571214Z"
    }
   },
   "cell_type": "code",
   "source": "df.columns",
   "id": "1cc37e5b02d83e25",
   "outputs": [
    {
     "data": {
      "text/plain": [
       "Index(['Title', 'Artist', 'Type', 'LVar', 'LAve', 'LMax', 'LFEner', 'LFreq'], dtype='object')"
      ]
     },
     "execution_count": 38,
     "metadata": {},
     "output_type": "execute_result"
    }
   ],
   "execution_count": 38
  },
  {
   "metadata": {
    "ExecuteTime": {
     "end_time": "2024-10-25T12:44:30.587328Z",
     "start_time": "2024-10-25T12:44:30.578361Z"
    }
   },
   "cell_type": "code",
   "source": [
    "from sklearn.preprocessing import LabelEncoder\n",
    "\n",
    "# Drop 'Title' since it's not a feature for prediction\n",
    "data = data.drop(columns=['Title'])\n",
    "\n",
    "# Encode categorical variables\n",
    "label_encoders = {}\n",
    "for column in ['Artist', 'Type']:\n",
    "    le = LabelEncoder()\n",
    "    data[column] = le.fit_transform(data[column])\n",
    "    label_encoders[column] = le  # Store the label encoder for potential inverse transformation later\n",
    "\n",
    "# Display the modified DataFrame\n",
    "print(data.head())\n"
   ],
   "id": "4609955ff3923e7b",
   "outputs": [
    {
     "name": "stdout",
     "output_type": "stream",
     "text": [
      "   Artist  Type        LVar       LAve   LMax     LFEner      LFreq\n",
      "0       0     2  17600755.6 -90.006867  29921  105.92095   59.57379\n",
      "1       0     2   9543020.9 -75.766719  27626  102.83616   58.48031\n",
      "2       0     2   9049481.5 -98.062924  26372  102.32488  124.59397\n",
      "3       0     2   7557437.3 -90.471062  28898  101.61648   48.76513\n",
      "4       0     2   6282285.6 -88.952631  27940  100.30076   74.02039\n"
     ]
    }
   ],
   "execution_count": 39
  },
  {
   "metadata": {
    "ExecuteTime": {
     "end_time": "2024-10-25T12:44:30.594189Z",
     "start_time": "2024-10-25T12:44:30.588629Z"
    }
   },
   "cell_type": "code",
   "source": [
    "X = data.drop(columns=['Type'])  # Features\n",
    "y = data['Type']  # Target variable\n"
   ],
   "id": "9cc2f55227fcfee1",
   "outputs": [],
   "execution_count": 40
  },
  {
   "metadata": {
    "ExecuteTime": {
     "end_time": "2024-10-25T12:44:30.602512Z",
     "start_time": "2024-10-25T12:44:30.595194Z"
    }
   },
   "cell_type": "code",
   "source": [
    "from sklearn.model_selection import train_test_split\n",
    "\n",
    "X_train, X_test, y_train, y_test = train_test_split(X, y, test_size=0.2, random_state=42)"
   ],
   "id": "bbd574a672891316",
   "outputs": [],
   "execution_count": 41
  },
  {
   "metadata": {
    "jupyter": {
     "is_executing": true
    },
    "ExecuteTime": {
     "start_time": "2024-10-25T12:44:30.603517Z"
    }
   },
   "cell_type": "code",
   "source": [
    "from sklearn.svm import SVC\n",
    "from sklearn.metrics import classification_report, confusion_matrix\n",
    "from datetime import datetime\n",
    "\n",
    "# Start measuring time\n",
    "start_time = datetime.now()\n",
    "print(f\"Started at: {start_time}\")\n",
    "\n",
    "# Create an SVM classifier\n",
    "model = SVC(kernel='linear')  # You can also try other kernels like 'rbf', 'poly', etc.\n",
    "\n",
    "# Fit the model\n",
    "model.fit(X_train, y_train)\n",
    "\n",
    "# Make predictions\n",
    "y_pred = model.predict(X_test)\n",
    "\n",
    "# End measuring time\n",
    "end_time = datetime.now()\n",
    "print(f\"Ended at: {end_time}\")\n",
    "\n",
    "# Calculate and print the duration\n",
    "print(f\"Duration of the training and predictions: {end_time - start_time}\")\n",
    "# aici se blocheaza for some fucking reason incearca si tu"
   ],
   "id": "4c7d93632bbdfd1d",
   "outputs": [
    {
     "name": "stdout",
     "output_type": "stream",
     "text": [
      "Started at: 2024-10-25 15:44:30.608323\n"
     ]
    }
   ],
   "execution_count": null
  },
  {
   "metadata": {
    "jupyter": {
     "is_executing": true
    }
   },
   "cell_type": "code",
   "source": [
    "# Print the confusion matrix and classification report\n",
    "print(confusion_matrix(y_test, y_pred))\n",
    "print(classification_report(y_test, y_pred))\n"
   ],
   "id": "435607ac3e7b264d",
   "outputs": [],
   "execution_count": null
  },
  {
   "metadata": {},
   "cell_type": "markdown",
   "source": "",
   "id": "618670aa47922498"
  }
 ],
 "metadata": {
  "kernelspec": {
   "display_name": "Python 3",
   "language": "python",
   "name": "python3"
  },
  "language_info": {
   "codemirror_mode": {
    "name": "ipython",
    "version": 2
   },
   "file_extension": ".py",
   "mimetype": "text/x-python",
   "name": "python",
   "nbconvert_exporter": "python",
   "pygments_lexer": "ipython2",
   "version": "2.7.6"
  }
 },
 "nbformat": 4,
 "nbformat_minor": 5
}
